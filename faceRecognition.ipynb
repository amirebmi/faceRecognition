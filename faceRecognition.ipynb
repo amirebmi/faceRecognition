{
 "cells": [
  {
   "cell_type": "markdown",
   "metadata": {},
   "source": [
    "### Amir Ebrahimi\n",
    "### Face Recognition Project"
   ]
  },
  {
   "cell_type": "markdown",
   "metadata": {},
   "source": [
    "Dataset resource: AT&T Research Lab which includes 400 sample faces from forty people (Ten images per person)"
   ]
  },
  {
   "cell_type": "code",
   "execution_count": 1,
   "metadata": {},
   "outputs": [],
   "source": [
    "import numpy as np\n",
    "import pandas as pd\n",
    "import matplotlib.pyplot as plt\n",
    "import matplotlib.image as mpimg\n",
    "from sklearn import svm\n",
    "from sklearn import preprocessing\n",
    "from sklearn.model_selection import train_test_split\n",
    "from sklearn.decomposition import PCA\n",
    "from sklearn.svm import SVC\n",
    "from sklearn import metrics\n",
    "from sklearn.model_selection import GridSearchCV\n",
    "\n",
    "%matplotlib inline"
   ]
  },
  {
   "cell_type": "markdown",
   "metadata": {},
   "source": [
    "#### Building the feature matrix and label vector"
   ]
  },
  {
   "cell_type": "code",
   "execution_count": 2,
   "metadata": {},
   "outputs": [
    {
     "data": {
      "text/html": [
       "<div>\n",
       "<style scoped>\n",
       "    .dataframe tbody tr th:only-of-type {\n",
       "        vertical-align: middle;\n",
       "    }\n",
       "\n",
       "    .dataframe tbody tr th {\n",
       "        vertical-align: top;\n",
       "    }\n",
       "\n",
       "    .dataframe thead th {\n",
       "        text-align: right;\n",
       "    }\n",
       "</style>\n",
       "<table border=\"1\" class=\"dataframe\">\n",
       "  <thead>\n",
       "    <tr style=\"text-align: right;\">\n",
       "      <th></th>\n",
       "      <th>Feature0</th>\n",
       "      <th>Feature1</th>\n",
       "      <th>Feature2</th>\n",
       "      <th>Feature3</th>\n",
       "      <th>Feature4</th>\n",
       "      <th>Feature5</th>\n",
       "      <th>Feature6</th>\n",
       "      <th>Feature7</th>\n",
       "      <th>Feature8</th>\n",
       "      <th>Feature9</th>\n",
       "      <th>...</th>\n",
       "      <th>Feature4086</th>\n",
       "      <th>Feature4087</th>\n",
       "      <th>Feature4088</th>\n",
       "      <th>Feature4089</th>\n",
       "      <th>Feature4090</th>\n",
       "      <th>Feature4091</th>\n",
       "      <th>Feature4092</th>\n",
       "      <th>Feature4093</th>\n",
       "      <th>Feature4094</th>\n",
       "      <th>Feature4095</th>\n",
       "    </tr>\n",
       "  </thead>\n",
       "  <tbody>\n",
       "    <tr>\n",
       "      <th>0</th>\n",
       "      <td>186</td>\n",
       "      <td>183</td>\n",
       "      <td>179</td>\n",
       "      <td>190</td>\n",
       "      <td>212</td>\n",
       "      <td>219</td>\n",
       "      <td>221</td>\n",
       "      <td>232</td>\n",
       "      <td>230</td>\n",
       "      <td>231</td>\n",
       "      <td>...</td>\n",
       "      <td>56</td>\n",
       "      <td>45</td>\n",
       "      <td>47</td>\n",
       "      <td>18</td>\n",
       "      <td>0</td>\n",
       "      <td>8</td>\n",
       "      <td>15</td>\n",
       "      <td>9</td>\n",
       "      <td>3</td>\n",
       "      <td>5</td>\n",
       "    </tr>\n",
       "    <tr>\n",
       "      <th>1</th>\n",
       "      <td>204</td>\n",
       "      <td>198</td>\n",
       "      <td>194</td>\n",
       "      <td>195</td>\n",
       "      <td>198</td>\n",
       "      <td>195</td>\n",
       "      <td>190</td>\n",
       "      <td>186</td>\n",
       "      <td>190</td>\n",
       "      <td>193</td>\n",
       "      <td>...</td>\n",
       "      <td>19</td>\n",
       "      <td>0</td>\n",
       "      <td>29</td>\n",
       "      <td>52</td>\n",
       "      <td>90</td>\n",
       "      <td>146</td>\n",
       "      <td>130</td>\n",
       "      <td>120</td>\n",
       "      <td>164</td>\n",
       "      <td>167</td>\n",
       "    </tr>\n",
       "    <tr>\n",
       "      <th>2</th>\n",
       "      <td>86</td>\n",
       "      <td>79</td>\n",
       "      <td>82</td>\n",
       "      <td>95</td>\n",
       "      <td>100</td>\n",
       "      <td>102</td>\n",
       "      <td>121</td>\n",
       "      <td>146</td>\n",
       "      <td>169</td>\n",
       "      <td>179</td>\n",
       "      <td>...</td>\n",
       "      <td>160</td>\n",
       "      <td>167</td>\n",
       "      <td>179</td>\n",
       "      <td>169</td>\n",
       "      <td>192</td>\n",
       "      <td>188</td>\n",
       "      <td>197</td>\n",
       "      <td>189</td>\n",
       "      <td>185</td>\n",
       "      <td>141</td>\n",
       "    </tr>\n",
       "    <tr>\n",
       "      <th>3</th>\n",
       "      <td>61</td>\n",
       "      <td>90</td>\n",
       "      <td>98</td>\n",
       "      <td>119</td>\n",
       "      <td>144</td>\n",
       "      <td>156</td>\n",
       "      <td>174</td>\n",
       "      <td>177</td>\n",
       "      <td>183</td>\n",
       "      <td>195</td>\n",
       "      <td>...</td>\n",
       "      <td>119</td>\n",
       "      <td>244</td>\n",
       "      <td>246</td>\n",
       "      <td>168</td>\n",
       "      <td>126</td>\n",
       "      <td>187</td>\n",
       "      <td>162</td>\n",
       "      <td>145</td>\n",
       "      <td>58</td>\n",
       "      <td>18</td>\n",
       "    </tr>\n",
       "    <tr>\n",
       "      <th>4</th>\n",
       "      <td>99</td>\n",
       "      <td>134</td>\n",
       "      <td>165</td>\n",
       "      <td>183</td>\n",
       "      <td>201</td>\n",
       "      <td>210</td>\n",
       "      <td>215</td>\n",
       "      <td>224</td>\n",
       "      <td>232</td>\n",
       "      <td>236</td>\n",
       "      <td>...</td>\n",
       "      <td>83</td>\n",
       "      <td>90</td>\n",
       "      <td>94</td>\n",
       "      <td>90</td>\n",
       "      <td>70</td>\n",
       "      <td>41</td>\n",
       "      <td>71</td>\n",
       "      <td>103</td>\n",
       "      <td>92</td>\n",
       "      <td>117</td>\n",
       "    </tr>\n",
       "    <tr>\n",
       "      <th>...</th>\n",
       "      <td>...</td>\n",
       "      <td>...</td>\n",
       "      <td>...</td>\n",
       "      <td>...</td>\n",
       "      <td>...</td>\n",
       "      <td>...</td>\n",
       "      <td>...</td>\n",
       "      <td>...</td>\n",
       "      <td>...</td>\n",
       "      <td>...</td>\n",
       "      <td>...</td>\n",
       "      <td>...</td>\n",
       "      <td>...</td>\n",
       "      <td>...</td>\n",
       "      <td>...</td>\n",
       "      <td>...</td>\n",
       "      <td>...</td>\n",
       "      <td>...</td>\n",
       "      <td>...</td>\n",
       "      <td>...</td>\n",
       "      <td>...</td>\n",
       "    </tr>\n",
       "    <tr>\n",
       "      <th>395</th>\n",
       "      <td>19</td>\n",
       "      <td>13</td>\n",
       "      <td>7</td>\n",
       "      <td>7</td>\n",
       "      <td>14</td>\n",
       "      <td>18</td>\n",
       "      <td>15</td>\n",
       "      <td>10</td>\n",
       "      <td>33</td>\n",
       "      <td>38</td>\n",
       "      <td>...</td>\n",
       "      <td>158</td>\n",
       "      <td>204</td>\n",
       "      <td>166</td>\n",
       "      <td>68</td>\n",
       "      <td>147</td>\n",
       "      <td>184</td>\n",
       "      <td>188</td>\n",
       "      <td>163</td>\n",
       "      <td>156</td>\n",
       "      <td>143</td>\n",
       "    </tr>\n",
       "    <tr>\n",
       "      <th>396</th>\n",
       "      <td>109</td>\n",
       "      <td>145</td>\n",
       "      <td>182</td>\n",
       "      <td>196</td>\n",
       "      <td>195</td>\n",
       "      <td>192</td>\n",
       "      <td>189</td>\n",
       "      <td>184</td>\n",
       "      <td>165</td>\n",
       "      <td>167</td>\n",
       "      <td>...</td>\n",
       "      <td>110</td>\n",
       "      <td>122</td>\n",
       "      <td>69</td>\n",
       "      <td>44</td>\n",
       "      <td>40</td>\n",
       "      <td>49</td>\n",
       "      <td>46</td>\n",
       "      <td>40</td>\n",
       "      <td>43</td>\n",
       "      <td>44</td>\n",
       "    </tr>\n",
       "    <tr>\n",
       "      <th>397</th>\n",
       "      <td>163</td>\n",
       "      <td>177</td>\n",
       "      <td>193</td>\n",
       "      <td>202</td>\n",
       "      <td>211</td>\n",
       "      <td>221</td>\n",
       "      <td>227</td>\n",
       "      <td>229</td>\n",
       "      <td>235</td>\n",
       "      <td>238</td>\n",
       "      <td>...</td>\n",
       "      <td>29</td>\n",
       "      <td>10</td>\n",
       "      <td>25</td>\n",
       "      <td>34</td>\n",
       "      <td>43</td>\n",
       "      <td>47</td>\n",
       "      <td>45</td>\n",
       "      <td>44</td>\n",
       "      <td>48</td>\n",
       "      <td>53</td>\n",
       "    </tr>\n",
       "    <tr>\n",
       "      <th>398</th>\n",
       "      <td>145</td>\n",
       "      <td>147</td>\n",
       "      <td>151</td>\n",
       "      <td>160</td>\n",
       "      <td>178</td>\n",
       "      <td>196</td>\n",
       "      <td>203</td>\n",
       "      <td>202</td>\n",
       "      <td>201</td>\n",
       "      <td>200</td>\n",
       "      <td>...</td>\n",
       "      <td>168</td>\n",
       "      <td>162</td>\n",
       "      <td>165</td>\n",
       "      <td>152</td>\n",
       "      <td>150</td>\n",
       "      <td>150</td>\n",
       "      <td>124</td>\n",
       "      <td>132</td>\n",
       "      <td>114</td>\n",
       "      <td>117</td>\n",
       "    </tr>\n",
       "    <tr>\n",
       "      <th>399</th>\n",
       "      <td>91</td>\n",
       "      <td>74</td>\n",
       "      <td>66</td>\n",
       "      <td>74</td>\n",
       "      <td>80</td>\n",
       "      <td>87</td>\n",
       "      <td>108</td>\n",
       "      <td>134</td>\n",
       "      <td>148</td>\n",
       "      <td>140</td>\n",
       "      <td>...</td>\n",
       "      <td>69</td>\n",
       "      <td>85</td>\n",
       "      <td>136</td>\n",
       "      <td>145</td>\n",
       "      <td>149</td>\n",
       "      <td>134</td>\n",
       "      <td>160</td>\n",
       "      <td>75</td>\n",
       "      <td>44</td>\n",
       "      <td>46</td>\n",
       "    </tr>\n",
       "  </tbody>\n",
       "</table>\n",
       "<p>400 rows × 4096 columns</p>\n",
       "</div>"
      ],
      "text/plain": [
       "    Feature0 Feature1 Feature2 Feature3 Feature4 Feature5 Feature6 Feature7  \\\n",
       "0        186      183      179      190      212      219      221      232   \n",
       "1        204      198      194      195      198      195      190      186   \n",
       "2         86       79       82       95      100      102      121      146   \n",
       "3         61       90       98      119      144      156      174      177   \n",
       "4         99      134      165      183      201      210      215      224   \n",
       "..       ...      ...      ...      ...      ...      ...      ...      ...   \n",
       "395       19       13        7        7       14       18       15       10   \n",
       "396      109      145      182      196      195      192      189      184   \n",
       "397      163      177      193      202      211      221      227      229   \n",
       "398      145      147      151      160      178      196      203      202   \n",
       "399       91       74       66       74       80       87      108      134   \n",
       "\n",
       "    Feature8 Feature9  ... Feature4086 Feature4087 Feature4088 Feature4089  \\\n",
       "0        230      231  ...          56          45          47          18   \n",
       "1        190      193  ...          19           0          29          52   \n",
       "2        169      179  ...         160         167         179         169   \n",
       "3        183      195  ...         119         244         246         168   \n",
       "4        232      236  ...          83          90          94          90   \n",
       "..       ...      ...  ...         ...         ...         ...         ...   \n",
       "395       33       38  ...         158         204         166          68   \n",
       "396      165      167  ...         110         122          69          44   \n",
       "397      235      238  ...          29          10          25          34   \n",
       "398      201      200  ...         168         162         165         152   \n",
       "399      148      140  ...          69          85         136         145   \n",
       "\n",
       "    Feature4090 Feature4091 Feature4092 Feature4093 Feature4094 Feature4095  \n",
       "0             0           8          15           9           3           5  \n",
       "1            90         146         130         120         164         167  \n",
       "2           192         188         197         189         185         141  \n",
       "3           126         187         162         145          58          18  \n",
       "4            70          41          71         103          92         117  \n",
       "..          ...         ...         ...         ...         ...         ...  \n",
       "395         147         184         188         163         156         143  \n",
       "396          40          49          46          40          43          44  \n",
       "397          43          47          45          44          48          53  \n",
       "398         150         150         124         132         114         117  \n",
       "399         149         134         160          75          44          46  \n",
       "\n",
       "[400 rows x 4096 columns]"
      ]
     },
     "execution_count": 2,
     "metadata": {},
     "output_type": "execute_result"
    }
   ],
   "source": [
    "n_features = 4096 # Convert each 64*64 image into a row of the feature matrix with 4096 columns\n",
    "\n",
    "\n",
    "# Name the feature table columns\n",
    "X = pd.DataFrame(columns = ['Feature' + str(i) for i in range(n_features)])\n",
    "\n",
    "# There are 400 image samples\n",
    "for j in range(400):\n",
    "    image_name = str(j) + '.jpg'\n",
    "    image_path = 'faceSamples/'\n",
    "    \n",
    "    # load images\n",
    "    image = mpimg.imread(image_path + image_name)\n",
    "    image_vector = image.reshape(1,4096)\n",
    "    X.loc[j,:] = image_vector[0]\n",
    "\n",
    "X"
   ]
  },
  {
   "cell_type": "markdown",
   "metadata": {},
   "source": [
    "#### Normalize the data"
   ]
  },
  {
   "cell_type": "code",
   "execution_count": 3,
   "metadata": {},
   "outputs": [],
   "source": [
    "X = preprocessing.scale(X)"
   ]
  },
  {
   "cell_type": "markdown",
   "metadata": {},
   "source": [
    "#### Read Labels"
   ]
  },
  {
   "cell_type": "code",
   "execution_count": 4,
   "metadata": {},
   "outputs": [],
   "source": [
    "df = pd.read_csv('faceSamples/label.csv')"
   ]
  },
  {
   "cell_type": "code",
   "execution_count": 5,
   "metadata": {},
   "outputs": [],
   "source": [
    "y = df['Label']"
   ]
  },
  {
   "cell_type": "code",
   "execution_count": 6,
   "metadata": {},
   "outputs": [
    {
     "data": {
      "text/plain": [
       "0      13\n",
       "1      30\n",
       "2      34\n",
       "3      19\n",
       "4      24\n",
       "       ..\n",
       "395    32\n",
       "396    19\n",
       "397    11\n",
       "398     4\n",
       "399    17\n",
       "Name: Label, Length: 400, dtype: int64"
      ]
     },
     "execution_count": 6,
     "metadata": {},
     "output_type": "execute_result"
    }
   ],
   "source": [
    "y"
   ]
  },
  {
   "cell_type": "markdown",
   "metadata": {},
   "source": [
    "#### Using sklearn to split dataset into testing and training sets"
   ]
  },
  {
   "cell_type": "code",
   "execution_count": 7,
   "metadata": {},
   "outputs": [],
   "source": [
    "X_train, X_test, y_train, y_test = train_test_split(X, y, test_size=0.25, random_state=5)"
   ]
  },
  {
   "cell_type": "markdown",
   "metadata": {},
   "source": [
    "#### Using Principal Component Analysis to reduce dimensionality from 4096 to 50"
   ]
  },
  {
   "cell_type": "code",
   "execution_count": 8,
   "metadata": {},
   "outputs": [
    {
     "data": {
      "text/plain": [
       "(100, 50)"
      ]
     },
     "execution_count": 8,
     "metadata": {},
     "output_type": "execute_result"
    }
   ],
   "source": [
    "#  k  is the number of components (new features) after dimensionality reduction\n",
    "k = 50\n",
    "\n",
    "my_pca = PCA(n_components = k)\n",
    "\n",
    "# X_Train is feature matrix of training set before dimensionality reduction, \n",
    "# X_Train_New is feature matrix of training set after dimensionality reduction:\n",
    "\n",
    "X_Train_new = my_pca.fit_transform(X_train)\n",
    "X_Test_new = my_pca. transform(X_test)\n",
    "X_Test_new.shape"
   ]
  },
  {
   "cell_type": "markdown",
   "metadata": {},
   "source": [
    "#### Designing and Training a non-linear SVM classifier with RBF Kernel to recognize the face based on the training dataset"
   ]
  },
  {
   "cell_type": "code",
   "execution_count": 9,
   "metadata": {},
   "outputs": [],
   "source": [
    "svm = SVC(C=1, kernel='rbf', gamma=0.0005, random_state=1)\n",
    "\n",
    "svm.fit(X_Train_new, y_train)\n",
    "\n",
    "y_pred = svm.predict(X_Test_new)"
   ]
  },
  {
   "cell_type": "markdown",
   "metadata": {},
   "source": [
    "#### Calculating and reporting the Confusion Matrix "
   ]
  },
  {
   "cell_type": "code",
   "execution_count": 10,
   "metadata": {},
   "outputs": [
    {
     "name": "stdout",
     "output_type": "stream",
     "text": [
      "Accuracy: 0.9\n",
      "[[3 0 0 ... 0 0 0]\n",
      " [0 3 0 ... 0 0 0]\n",
      " [0 0 1 ... 0 0 0]\n",
      " ...\n",
      " [0 0 0 ... 0 0 0]\n",
      " [0 0 0 ... 0 4 0]\n",
      " [0 0 0 ... 0 0 1]]\n"
     ]
    }
   ],
   "source": [
    "print(\"Accuracy:\",metrics.accuracy_score(y_test, y_pred))\n",
    "\n",
    "print(metrics.confusion_matrix(y_test, y_pred))"
   ]
  },
  {
   "cell_type": "markdown",
   "metadata": {},
   "source": [
    "#### Using GridSearchCV to find the best value for parameter C in SVM"
   ]
  },
  {
   "cell_type": "code",
   "execution_count": 11,
   "metadata": {},
   "outputs": [
    {
     "name": "stdout",
     "output_type": "stream",
     "text": [
      "{'C': [0.1, 1, 10, 100, 1000.0, 5000.0, 10000.0, 50000.0, 100000.0]} \n",
      "\n"
     ]
    }
   ],
   "source": [
    "seed = 1\n",
    "np.random.seed(seed)\n",
    "neuron_number = [0.1, 1, 10, 100, 1e3, 5e3, 1e4, 5e4, 1e5]\n",
    "\n",
    "# create a dictionary for grid parameter:\n",
    "param_grid = dict(C = neuron_number)\n",
    "print(param_grid,'\\n')"
   ]
  },
  {
   "cell_type": "code",
   "execution_count": 12,
   "metadata": {},
   "outputs": [
    {
     "data": {
      "text/plain": [
       "array([[ 4.88937415e+00, -2.98222806e+01, -1.12538597e+01, ...,\n",
       "         1.27790930e+00, -5.13057988e-01,  1.89170077e-02],\n",
       "       [ 5.94927669e+01,  2.92531999e+00,  2.98069529e+01, ...,\n",
       "         2.22713182e+00,  1.14766093e+00,  1.02023264e+00],\n",
       "       [ 5.26688749e+01, -6.17710983e+00, -7.20124200e+00, ...,\n",
       "        -1.16399547e+00, -7.59410721e-01, -4.63859438e+00],\n",
       "       ...,\n",
       "       [-2.82722965e+01, -1.48402519e+01, -3.21436921e+01, ...,\n",
       "         1.12353263e+00,  5.99913428e+00, -3.35544232e-01],\n",
       "       [-1.77854656e+01,  2.30273088e+01, -1.97221024e+01, ...,\n",
       "         2.17393593e-01,  5.88445883e+00, -6.33162799e-01],\n",
       "       [-2.64460608e+01,  1.31387639e+01, -2.01968770e+00, ...,\n",
       "         1.16158019e+00,  1.66219759e+00,  1.81565265e+00]])"
      ]
     },
     "execution_count": 12,
     "metadata": {},
     "output_type": "execute_result"
    }
   ],
   "source": [
    "k = 50 # k is the number of components (new features) after dimensionality reduction\n",
    "my_pca = PCA(n_components = k)\n",
    "X_normalized_pca = my_pca.fit_transform(X)\n",
    "X_normalized_pca"
   ]
  },
  {
   "cell_type": "code",
   "execution_count": 13,
   "metadata": {},
   "outputs": [
    {
     "name": "stdout",
     "output_type": "stream",
     "text": [
      "{'C': 10}\n"
     ]
    }
   ],
   "source": [
    "grid = GridSearchCV(svm, param_grid, cv=10, scoring='accuracy')\n",
    "\n",
    "grid.fit(X_normalized_pca, y)\n",
    "\n",
    "print(grid.best_params_)"
   ]
  },
  {
   "cell_type": "code",
   "execution_count": null,
   "metadata": {},
   "outputs": [],
   "source": []
  }
 ],
 "metadata": {
  "kernelspec": {
   "display_name": "Python 3",
   "language": "python",
   "name": "python3"
  },
  "language_info": {
   "codemirror_mode": {
    "name": "ipython",
    "version": 3
   },
   "file_extension": ".py",
   "mimetype": "text/x-python",
   "name": "python",
   "nbconvert_exporter": "python",
   "pygments_lexer": "ipython3",
   "version": "3.8.3"
  }
 },
 "nbformat": 4,
 "nbformat_minor": 4
}
